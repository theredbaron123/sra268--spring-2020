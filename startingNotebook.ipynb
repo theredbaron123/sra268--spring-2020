{
  "nbformat": 4,
  "nbformat_minor": 0,
  "metadata": {
    "colab": {
      "name": "startingNotebook.ipynb",
      "provenance": [],
      "toc_visible": true,
      "authorship_tag": "ABX9TyOzqv+Mk2iQzMFZ/zgyI0qh",
      "include_colab_link": true
    },
    "kernelspec": {
      "name": "python3",
      "display_name": "Python 3"
    }
  },
  "cells": [
    {
      "cell_type": "markdown",
      "metadata": {
        "id": "view-in-github",
        "colab_type": "text"
      },
      "source": [
        "<a href=\"https://colab.research.google.com/github/theredbaron123/sra268--spring-2020/blob/master/startingNotebook.ipynb\" target=\"_parent\"><img src=\"https://colab.research.google.com/assets/colab-badge.svg\" alt=\"Open In Colab\"/></a>"
      ]
    },
    {
      "cell_type": "code",
      "metadata": {
        "id": "0LUU9EDk4rVR",
        "colab_type": "code",
        "colab": {
          "base_uri": "https://localhost:8080/",
          "height": 34
        },
        "outputId": "94fc53a2-40e3-4c22-f8cb-5b9f96fc2afd"
      },
      "source": [
        "2 + 2"
      ],
      "execution_count": 3,
      "outputs": [
        {
          "output_type": "execute_result",
          "data": {
            "text/plain": [
              "4"
            ]
          },
          "metadata": {
            "tags": []
          },
          "execution_count": 3
        }
      ]
    },
    {
      "cell_type": "markdown",
      "metadata": {
        "id": "gj3oAH1b5efG",
        "colab_type": "text"
      },
      "source": [
        "# Abstract"
      ]
    },
    {
      "cell_type": "markdown",
      "metadata": {
        "id": "RCfNkLn15wh3",
        "colab_type": "text"
      },
      "source": [
        "something in the abstract "
      ]
    },
    {
      "cell_type": "markdown",
      "metadata": {
        "id": "t9uIZPlS5z3I",
        "colab_type": "text"
      },
      "source": [
        "# Introduction"
      ]
    },
    {
      "cell_type": "markdown",
      "metadata": {
        "id": "elbueTEE533U",
        "colab_type": "text"
      },
      "source": [
        "stuff in the introduction"
      ]
    },
    {
      "cell_type": "markdown",
      "metadata": {
        "id": "kaakXYrW6EkR",
        "colab_type": "text"
      },
      "source": [
        "![no image here]()"
      ]
    }
  ]
}