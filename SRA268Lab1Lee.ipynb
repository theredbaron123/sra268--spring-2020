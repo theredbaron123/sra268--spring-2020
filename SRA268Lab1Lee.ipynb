{
  "nbformat": 4,
  "nbformat_minor": 0,
  "metadata": {
    "colab": {
      "name": "SRA268Lab1Lee.ipynb",
      "provenance": [],
      "authorship_tag": "ABX9TyNxJdQFWN1PLwWAgnLBTgQr",
      "include_colab_link": true
    },
    "kernelspec": {
      "name": "python3",
      "display_name": "Python 3"
    }
  },
  "cells": [
    {
      "cell_type": "markdown",
      "metadata": {
        "id": "view-in-github",
        "colab_type": "text"
      },
      "source": [
        "<a href=\"https://colab.research.google.com/github/theredbaron123/sra268--spring-2020/blob/master/SRA268Lab1Lee.ipynb\" target=\"_parent\"><img src=\"https://colab.research.google.com/assets/colab-badge.svg\" alt=\"Open In Colab\"/></a>"
      ]
    },
    {
      "cell_type": "markdown",
      "metadata": {
        "id": "P4f9eYOoxt_w",
        "colab_type": "text"
      },
      "source": [
        "# Anual Statistical and Data Driven Analysis of NOAA Precipitation Data From April 2018 in State College, PA"
      ]
    },
    {
      "cell_type": "markdown",
      "metadata": {
        "id": "74QoGayIzT-t",
        "colab_type": "text"
      },
      "source": [
        "# Outline"
      ]
    },
    {
      "cell_type": "markdown",
      "metadata": {
        "id": "LROQ5CGXzY3F",
        "colab_type": "text"
      },
      "source": [
        "The data provided was taken from a larger set detailing precipitation, snow fall and max/min temperatures on any given day from 1-1-17 to 9-6-19 in the State College, PA area. This analysis chose to look at precipitation in the same area during the month of April. There is expected to be a large amount of precipitation as April is an early spring month and is largely characterized by large amounts of rain.   "
      ]
    },
    {
      "cell_type": "markdown",
      "metadata": {
        "id": "yNXYRGOoAljj",
        "colab_type": "text"
      },
      "source": [
        "# Graph Sketch"
      ]
    },
    {
      "cell_type": "markdown",
      "metadata": {
        "id": "D9QxCMglAuqT",
        "colab_type": "text"
      },
      "source": [
        "![alt text](https://github.com/theredbaron123/sra268--spring-2020/blob/master/images/20200123_170657.jpg?raw=true)"
      ]
    },
    {
      "cell_type": "markdown",
      "metadata": {
        "id": "45swYpb8Avll",
        "colab_type": "text"
      },
      "source": [
        "# Conclusion"
      ]
    },
    {
      "cell_type": "markdown",
      "metadata": {
        "id": "O9uMhiplAxZd",
        "colab_type": "text"
      },
      "source": [
        "Ultimately, the data presented for April shows that while it did rain the majority of days throughout April 2018, it was not a relatively consistently high volume of rain. The data instead shows that there was an average of .19 inches of rainfall throughout the month of April. The shortest span of time without any rainfall in April 2018 was a four day span from the 21st to the 24th. "
      ]
    }
  ]
}