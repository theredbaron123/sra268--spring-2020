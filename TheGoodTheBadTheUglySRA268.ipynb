{
  "nbformat": 4,
  "nbformat_minor": 0,
  "metadata": {
    "colab": {
      "name": "TheGoodTheBadTheUglySRA268.ipynb",
      "provenance": [],
      "collapsed_sections": [],
      "include_colab_link": true
    },
    "kernelspec": {
      "name": "python3",
      "display_name": "Python 3"
    }
  },
  "cells": [
    {
      "cell_type": "markdown",
      "metadata": {
        "id": "view-in-github",
        "colab_type": "text"
      },
      "source": [
        "<a href=\"https://colab.research.google.com/github/theredbaron123/sra268--spring-2020/blob/master/TheGoodTheBadTheUglySRA268.ipynb\" target=\"_parent\"><img src=\"https://colab.research.google.com/assets/colab-badge.svg\" alt=\"Open In Colab\"/></a>"
      ]
    },
    {
      "cell_type": "markdown",
      "metadata": {
        "id": "kW6Cbvo82Sys",
        "colab_type": "text"
      },
      "source": [
        "#### Group 31\n",
        "\n",
        "\n",
        "*   Jacob Lee\n",
        "*   Kyung Jin Kim\n",
        "*   Tommy Dolon\n",
        "*   Jaemin Ahn"
      ]
    },
    {
      "cell_type": "markdown",
      "metadata": {
        "id": "cixXSM4I12Yw",
        "colab_type": "text"
      },
      "source": [
        "### Original Project: Annual Statistical and Data Driven Analysis of NOAA Precipitation Data From April 2018 in State College, PA"
      ]
    },
    {
      "cell_type": "markdown",
      "metadata": {
        "id": "3Xny9mL615LM",
        "colab_type": "text"
      },
      "source": [
        "Write-up of original project: The data provided was taken from a larger set detailing precipitation, snow fall and max/min temperatures on any given day from 1-1-17 to 9-6-19 in the State College, PA area. This analysis chose to look at precipitation in the same area during the month of April. There is expected to be a large amount of precipitation as April is an early spring month and is largely characterized by large amounts of rain.\n",
        "\n",
        ">\n",
        "\n"
      ]
    },
    {
      "cell_type": "markdown",
      "metadata": {
        "id": "cQSlrfVW19HW",
        "colab_type": "text"
      },
      "source": [
        "![alt text](https://github.com/theredbaron123/sra268--spring-2020/blob/master/images/20200123_170657.jpg?raw=true)"
      ]
    },
    {
      "cell_type": "markdown",
      "metadata": {
        "id": "NEQgzUl32GVZ",
        "colab_type": "text"
      },
      "source": [
        "Conclusion of original project: Ultimately, the data presented for April shows that while it did rain the majority of days throughout April 2018, it was not a relatively consistently high volume of rain. The data instead shows that there was an average of .19 inches of rainfall throughout the month of April. The shortest span of time without any rainfall in April 2018 was a four day span from the 21st to the 24th."
      ]
    },
    {
      "cell_type": "markdown",
      "metadata": {
        "id": "ROM_QFLo2KyH",
        "colab_type": "text"
      },
      "source": [
        "### Annual Data and Statistical Driven Analysis of NOAA Precipitation Data from April 2000 to April 2019 in State College, Pennsylvania"
      ]
    },
    {
      "cell_type": "markdown",
      "metadata": {
        "id": "Q5t3T7W-Hki8",
        "colab_type": "text"
      },
      "source": [
        "The data was taken from April 2000 to April 2019 on an annual basis, in an effort to visualize the precipitation data. "
      ]
    },
    {
      "cell_type": "markdown",
      "metadata": {
        "id": "YBMMWB2oHrRB",
        "colab_type": "text"
      },
      "source": [
        "#### The Good"
      ]
    },
    {
      "cell_type": "markdown",
      "metadata": {
        "id": "ITlYgwM6Ht8K",
        "colab_type": "text"
      },
      "source": [
        "This is a good visualization because it implements the correct type of graph (a line graph to display a trend over time) for the type of information we are trying to display; that is: precipitation in inches from April over a 19 year period. The color scheme is appropriate to the data, as if it implemented a gradient scheme, it would overly complicate or cloud the data's accompanied visual. The title as well as the axis gives detailed and succinct info on what data is being presented as well, with little room for interpretation. Likewise, this graph also uses appropriate scaling of its axis, starting at 0 on the Y axis and April 2000 on the X axis.   "
      ]
    },
    {
      "cell_type": "code",
      "metadata": {
        "id": "_0eP3qoh2QD0",
        "colab_type": "code",
        "outputId": "97542c16-66e1-431a-b77f-bfa9a8f014f3",
        "colab": {
          "base_uri": "https://localhost:8080/",
          "height": 1000
        }
      },
      "source": [
        "import IPython\n",
        "IPython.display.HTML(\"<div class='tableauPlaceholder' id='viz1581019211128' style='position: relative'><noscript><a href='#'><img alt=' ' src='https:&#47;&#47;public.tableau.com&#47;static&#47;images&#47;sr&#47;sra268aprilprecipitation&#47;Sheet1&#47;1_rss.png' style='border: none' /></a></noscript><object class='tableauViz'  style='display:none;'><param name='host_url' value='https%3A%2F%2Fpublic.tableau.com%2F' /> <param name='embed_code_version' value='3' /> <param name='site_root' value='' /><param name='name' value='sra268aprilprecipitation&#47;Sheet1' /><param name='tabs' value='no' /><param name='toolbar' value='yes' /><param name='static_image' value='https:&#47;&#47;public.tableau.com&#47;static&#47;images&#47;sr&#47;sra268aprilprecipitation&#47;Sheet1&#47;1.png' /> <param name='animate_transition' value='yes' /><param name='display_static_image' value='yes' /><param name='display_spinner' value='yes' /><param name='display_overlay' value='yes' /><param name='display_count' value='yes' /><param name='filter' value='publish=yes' /></object></div>                <script type='text/javascript'>                    var divElement = document.getElementById('viz1581019211128');                    var vizElement = divElement.getElementsByTagName('object')[0];                    vizElement.style.width='100%';vizElement.style.height=(divElement.offsetWidth*0.75)+'px';                    var scriptElement = document.createElement('script');                    scriptElement.src = 'https://public.tableau.com/javascripts/api/viz_v1.js';                    vizElement.parentNode.insertBefore(scriptElement, vizElement);                </script>\")\n"
      ],
      "execution_count": 0,
      "outputs": [
        {
          "output_type": "execute_result",
          "data": {
            "text/html": [
              "<div class='tableauPlaceholder' id='viz1581019211128' style='position: relative'><noscript><a href='#'><img alt=' ' src='https:&#47;&#47;public.tableau.com&#47;static&#47;images&#47;sr&#47;sra268aprilprecipitation&#47;Sheet1&#47;1_rss.png' style='border: none' /></a></noscript><object class='tableauViz'  style='display:none;'><param name='host_url' value='https%3A%2F%2Fpublic.tableau.com%2F' /> <param name='embed_code_version' value='3' /> <param name='site_root' value='' /><param name='name' value='sra268aprilprecipitation&#47;Sheet1' /><param name='tabs' value='no' /><param name='toolbar' value='yes' /><param name='static_image' value='https:&#47;&#47;public.tableau.com&#47;static&#47;images&#47;sr&#47;sra268aprilprecipitation&#47;Sheet1&#47;1.png' /> <param name='animate_transition' value='yes' /><param name='display_static_image' value='yes' /><param name='display_spinner' value='yes' /><param name='display_overlay' value='yes' /><param name='display_count' value='yes' /><param name='filter' value='publish=yes' /></object></div>                <script type='text/javascript'>                    var divElement = document.getElementById('viz1581019211128');                    var vizElement = divElement.getElementsByTagName('object')[0];                    vizElement.style.width='100%';vizElement.style.height=(divElement.offsetWidth*0.75)+'px';                    var scriptElement = document.createElement('script');                    scriptElement.src = 'https://public.tableau.com/javascripts/api/viz_v1.js';                    vizElement.parentNode.insertBefore(scriptElement, vizElement);                </script>"
            ],
            "text/plain": [
              "<IPython.core.display.HTML object>"
            ]
          },
          "metadata": {
            "tags": []
          },
          "execution_count": 2
        }
      ]
    },
    {
      "cell_type": "markdown",
      "metadata": {
        "id": "vZ__tY4XINir",
        "colab_type": "text"
      },
      "source": [
        "#### The Bad"
      ]
    },
    {
      "cell_type": "markdown",
      "metadata": {
        "id": "sbwozUSsvwbY",
        "colab_type": "text"
      },
      "source": [
        "![Misleading graph of April Precipitation](https://raw.githubusercontent.com/txd5297/SRA268/master/Spring2020/AprilBADimage.jpg)"
      ]
    },
    {
      "cell_type": "markdown",
      "metadata": {
        "id": "DszQ1tGVIRQq",
        "colab_type": "text"
      },
      "source": [
        "The graph is bad because it is purposefully misleading. A reader would assume it starts at 0 because it is not clearly labeled otherwise. It actually starts at 1.27 inches of precipitation, making it appear as though april 2010 was extremely dry. \n",
        "\n",
        "The variation in the color makes the visualization fancy, but it challenges the reader to interpret the graph. Instead, the graph should have a variation in intensity to categorize the differences in preciptation level of April. "
      ]
    },
    {
      "cell_type": "markdown",
      "metadata": {
        "id": "NnaYvuAIIkPV",
        "colab_type": "text"
      },
      "source": [
        "#### The Ugly"
      ]
    },
    {
      "cell_type": "markdown",
      "metadata": {
        "id": "wzL0NcT_EpHc",
        "colab_type": "text"
      },
      "source": [
        "![The Ugly](https://raw.githubusercontent.com/kk5115/KJK/master/268/Screen%20Shot%202020-02-02%20at%201.03.06%20PM.png)"
      ]
    },
    {
      "cell_type": "markdown",
      "metadata": {
        "id": "c1AzDSrXIAB4",
        "colab_type": "text"
      },
      "source": [
        "Because the consumer cannot precisely visualize the differences in value and the trend, the visualization is ugly. However, the visualization does identify the total precipitation of April from distinctive years, which is represented by the color and the size of the circles. \n",
        "\n",
        "It would have been easier to visualize if the circles were organized chrnologically or by the total precipitation. It would also be more effective if the there was only one color with differences in opacity or intesity. These help the consumer understand the visualization efficiently and effectively. This graph is not bad, but it is disorganized and misleading. \n"
      ]
    }
  ]
}