{
  "nbformat": 4,
  "nbformat_minor": 0,
  "metadata": {
    "colab": {
      "name": "Copy of Lab2.ipynb",
      "provenance": [],
      "include_colab_link": true
    },
    "kernelspec": {
      "name": "python3",
      "display_name": "Python 3"
    }
  },
  "cells": [
    {
      "cell_type": "markdown",
      "metadata": {
        "id": "view-in-github",
        "colab_type": "text"
      },
      "source": [
        "<a href=\"https://colab.research.google.com/github/theredbaron123/sra268--spring-2020/blob/master/Copy_of_Lab2.ipynb\" target=\"_parent\"><img src=\"https://colab.research.google.com/assets/colab-badge.svg\" alt=\"Open In Colab\"/></a>"
      ]
    },
    {
      "cell_type": "markdown",
      "metadata": {
        "id": "6sOc4Uyr4U-Z",
        "colab_type": "text"
      },
      "source": [
        "## Graph Types"
      ]
    },
    {
      "cell_type": "markdown",
      "metadata": {
        "id": "0zZdVLAd5CYr",
        "colab_type": "text"
      },
      "source": [
        "Creator\n",
        "* Name "
      ]
    },
    {
      "cell_type": "markdown",
      "metadata": {
        "id": "g-r6Clq45Hn4",
        "colab_type": "text"
      },
      "source": [
        "### Deviation\n"
      ]
    },
    {
      "cell_type": "markdown",
      "metadata": {
        "id": "2gorxo6E7A0t",
        "colab_type": "text"
      },
      "source": [
        "![alt text](https://github.com/theredbaron123/sra268--spring-2020/blob/master/images/deviation%20(1).png?raw=true)"
      ]
    },
    {
      "cell_type": "markdown",
      "metadata": {
        "id": "w6bZ_NEi7E3w",
        "colab_type": "text"
      },
      "source": [
        "#### What is this telling us?"
      ]
    },
    {
      "cell_type": "markdown",
      "metadata": {
        "id": "95L-spaC7QHF",
        "colab_type": "text"
      },
      "source": [
        "What this graph is telling us is that when plotting the losing team's mascot's points against the winning points, there is a certain amount of points that can be taken above or below the average. In this case, the Browns and the Bulldogs scored approximately 3.5k and 6.8k less than the average of 1334 points total. Only 5 teams total points were below the average. Conversely, the Bengals and the Blacks scored approximately 1.2k above the average. Fourteen teams scored above the average and arguably, the Badgers were the most average team, seeming to score only 500 point below the average."
      ]
    },
    {
      "cell_type": "markdown",
      "metadata": {
        "id": "YgXyXjmz7cDP",
        "colab_type": "text"
      },
      "source": [
        "### Correlation\n"
      ]
    },
    {
      "cell_type": "markdown",
      "metadata": {
        "id": "SGx15rZq7hvt",
        "colab_type": "text"
      },
      "source": [
        "![alt text](https://github.com/theredbaron123/sra268--spring-2020/blob/master/images/correlation.png?raw=true)"
      ]
    },
    {
      "cell_type": "markdown",
      "metadata": {
        "id": "dljjONNi7jmj",
        "colab_type": "text"
      },
      "source": [
        "#### What is this telling us?"
      ]
    },
    {
      "cell_type": "markdown",
      "metadata": {
        "id": "PwZEZrFB7laG",
        "colab_type": "text"
      },
      "source": [
        "This correlation graph plots the round against the total number of winning points at any given round. This gives us the correlation between the round and the total number of winning points at that round. However, just plotting points does not provide a correlation, thus, a regression line was placed over the correlation graph. While the r value cannot be determined from the graph, the apparent correlation in conjunction with the regression line seems to suggest a weak correlation to say the least between the round and the number of winning points for the appropriate round. This could suggest that the teams got better at playing offensively due to the large spike in points for the 2nd to last round, while the last round seems to be particularly defensive. "
      ]
    },
    {
      "cell_type": "markdown",
      "metadata": {
        "id": "MqUdI-uL7r2s",
        "colab_type": "text"
      },
      "source": [
        "### Ranking\n"
      ]
    },
    {
      "cell_type": "markdown",
      "metadata": {
        "id": "AvlxCOVt7x9F",
        "colab_type": "text"
      },
      "source": [
        "![alt text](https://github.com/theredbaron123/sra268--spring-2020/blob/master/images/ranking.png?raw=true)"
      ]
    },
    {
      "cell_type": "markdown",
      "metadata": {
        "id": "lCAYtfza7yTq",
        "colab_type": "text"
      },
      "source": [
        "#### What is this telling us?"
      ]
    },
    {
      "cell_type": "markdown",
      "metadata": {
        "id": "MyuciD277ygU",
        "colab_type": "text"
      },
      "source": [
        "This ranking graph is monitoring the amount of total winning points for any given year from nineteen eighty-five to twenty seventeen. The thing to consider when looking at this graph is that years with particularly low scoring years were probably years where the league was particularly defensive, for example years like 1994 and 1995 versus years with high scoring years where the league was probably particularly offensive like in 2002 or 2009. This is interesting to consider as it does not show a trend necessarily, rather just the years in order of highest winning points. This graph does not necessairly give us any insightful information besides ranking, as it would be hard to identify any complex patterns within a ranking graph. "
      ]
    },
    {
      "cell_type": "markdown",
      "metadata": {
        "id": "dGDGl8-G7y8Y",
        "colab_type": "text"
      },
      "source": [
        "### Distribution\n"
      ]
    },
    {
      "cell_type": "markdown",
      "metadata": {
        "id": "FB0uV-jy76p9",
        "colab_type": "text"
      },
      "source": [
        "![alt text](https://github.com/theredbaron123/sra268--spring-2020/blob/master/images/distribution.png?raw=true)"
      ]
    },
    {
      "cell_type": "markdown",
      "metadata": {
        "id": "_6SOzhrQ76zH",
        "colab_type": "text"
      },
      "source": [
        "#### What is this telling us?"
      ]
    },
    {
      "cell_type": "markdown",
      "metadata": {
        "id": "HBWqsS_g767h",
        "colab_type": "text"
      },
      "source": [
        "This graph is a distribution graph, colloquially known as a histogram. A histogram creates bins of information. In this case, it is a historgram of the number of winning points and how often those particular range of scores occur. Some bins occur quite frequently, such as the bin approximately between 72 and 76 and some bins occur almost not at all, like the bin taking up the amount of winning points between 127 and 135. This suggests that the mode is most likely between the 72 to 76 point range. The median also probably exists somewhere in that range, although one cannot say for certain.  "
      ]
    },
    {
      "cell_type": "markdown",
      "metadata": {
        "id": "wQsDThk677Fy",
        "colab_type": "text"
      },
      "source": [
        "### Change over Time\n"
      ]
    },
    {
      "cell_type": "markdown",
      "metadata": {
        "id": "Z1j_YLOA7_OK",
        "colab_type": "text"
      },
      "source": [
        "![alt text](https://github.com/theredbaron123/sra268--spring-2020/blob/master/images/changeovertime.png?raw=true)"
      ]
    },
    {
      "cell_type": "markdown",
      "metadata": {
        "id": "mpfsmmgi7_Vj",
        "colab_type": "text"
      },
      "source": [
        "#### What is this telling us?"
      ]
    },
    {
      "cell_type": "markdown",
      "metadata": {
        "id": "rYLXoMMO7_di",
        "colab_type": "text"
      },
      "source": [
        "This is a change over time graph. It plots the year versus the sum number of losing points. This shows the trend that typically after a year of extremely high sum of losing points in a year, the next year seems to indicate an extremely low sum of losing points. This would seem to say that after a very offensively focused year (i.e. a year with what one would assume high sum total losing points), the next year becomes extremely defense oriented as a balance of sorts. As shown with non-exceptional years such as 2000 to 2003, there is no huge reaction from the league in switching to focus on offense or defense the next year, as there is no reason to. "
      ]
    },
    {
      "cell_type": "markdown",
      "metadata": {
        "id": "lFwiHoE-7_jZ",
        "colab_type": "text"
      },
      "source": [
        "### Magnitude\n"
      ]
    },
    {
      "cell_type": "markdown",
      "metadata": {
        "id": "ICQFnXj78EbF",
        "colab_type": "text"
      },
      "source": [
        "![alt text](https://github.com/theredbaron123/sra268--spring-2020/blob/master/images/magnitude.png?raw=true)"
      ]
    },
    {
      "cell_type": "markdown",
      "metadata": {
        "id": "QGG7XYG88Eii",
        "colab_type": "text"
      },
      "source": [
        "#### What is this telling us?"
      ]
    },
    {
      "cell_type": "markdown",
      "metadata": {
        "id": "VS7uGa0l8Eos",
        "colab_type": "text"
      },
      "source": [
        "This is a magnitude graph. This graph in particular shows the number of times the winning mascot (of W and F teams) was also placed in the winning seed throughout the whole league. This graph shows that the Wildcats and the Wolves were by far the teams placed into the winning seed most often. Other teams such as the Warriors, the Wave and the Fictional Birds were almost never placed into the winning seed. Instead, they seem to have been the underdog more often than not out of teams with mascots starting with W and F, unlike the Wildcats who seem to be in the winning seed far more often than other teams.  "
      ]
    },
    {
      "cell_type": "markdown",
      "metadata": {
        "id": "bEKFxP8R8Evk",
        "colab_type": "text"
      },
      "source": [
        "### Part-to-Whole\n"
      ]
    },
    {
      "cell_type": "markdown",
      "metadata": {
        "id": "WFHlcYKV8E35",
        "colab_type": "text"
      },
      "source": [
        "![alt text](https://github.com/theredbaron123/sra268--spring-2020/blob/master/images/partofwhole.png?raw=true)"
      ]
    },
    {
      "cell_type": "markdown",
      "metadata": {
        "id": "PNSd3wlp8UZH",
        "colab_type": "text"
      },
      "source": [
        "#### What is this telling us?"
      ]
    },
    {
      "cell_type": "markdown",
      "metadata": {
        "id": "y9tb_QRA8aqt",
        "colab_type": "text"
      },
      "source": [
        "This is a part of a whole graph. This graph shows the part of the whole league that is made up of the losing seed mascot's taxonomy phylum. This graph suggests that if your team is a member of the Chordata phylum, your team is fairly likely to be in the losing seed. On the other hand, if your team is in the Reptilia phylum, you are unlikely to be placed into the losing seed. Curiously enough if your team cannont be placed into a phylum (i.e. say you are the Tornadoes) then you are also fairly likely to be placed into the losing seed. "
      ]
    }
  ]
}